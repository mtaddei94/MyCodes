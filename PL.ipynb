{
 "cells": [
  {
   "cell_type": "code",
   "execution_count": 1,
   "metadata": {},
   "outputs": [],
   "source": [
    "import pandas as pd\n",
    "import matplotlib.pyplot as plt\n",
    "from customplotting.general import plot_xy, save_fig"
   ]
  },
  {
   "cell_type": "markdown",
   "metadata": {},
   "source": [
    "# 02/10/2021 --> SnGe NCs"
   ]
  },
  {
   "cell_type": "code",
   "execution_count": 18,
   "metadata": {},
   "outputs": [],
   "source": [
    "SnGe_4500rpm_10s= pd.read_csv('/Users/margheritataddei/Desktop/Documenti/U_Washington/Ginger_Lab/2021 Data/PL/2021_02_10_PL/SNGe_NPs_4500rpm_200uL_3mLtol_exc365_noBP_400LP_10s_1avg.txt', delimiter='\t', nrows = 2048)\n",
    "SnGe_4500rpm_30s= pd.read_csv('/Users/margheritataddei/Desktop/Documenti/U_Washington/Ginger_Lab/2021 Data/PL/2021_02_10_PL/SNGe_NPs_4500rpm_200uL_3mLtol_exc365_noBP_400LP_30s_1avg.txt', delimiter='\t', nrows = 2048)\n",
    "SnGe_11000rpm= pd.read_csv('/Users/margheritataddei/Desktop/Documenti/U_Washington/Ginger_Lab/2021 Data/PL/2021_02_10_PL/SNGe_NPs_11000rpm_200uL_3mLtol_exc365_noBP_400LP_180s_1avg.txt', delimiter='\t', nrows = 2048)"
   ]
  },
  {
   "cell_type": "code",
   "execution_count": 19,
   "metadata": {},
   "outputs": [
    {
     "data": {
      "text/html": [
       "<div>\n",
       "<style scoped>\n",
       "    .dataframe tbody tr th:only-of-type {\n",
       "        vertical-align: middle;\n",
       "    }\n",
       "\n",
       "    .dataframe tbody tr th {\n",
       "        vertical-align: top;\n",
       "    }\n",
       "\n",
       "    .dataframe thead th {\n",
       "        text-align: right;\n",
       "    }\n",
       "</style>\n",
       "<table border=\"1\" class=\"dataframe\">\n",
       "  <thead>\n",
       "    <tr style=\"text-align: right;\">\n",
       "      <th></th>\n",
       "      <th>Wavelength (nm)</th>\n",
       "      <th>Intensity Light (Counts)</th>\n",
       "      <th>Intensity Light (Counts) Stdev</th>\n",
       "      <th>Intensity Dark (Counts)</th>\n",
       "      <th>Intensity Dark (Counts) Stdev</th>\n",
       "      <th>Intensity Corrected (Counts)</th>\n",
       "    </tr>\n",
       "  </thead>\n",
       "  <tbody>\n",
       "    <tr>\n",
       "      <td>0</td>\n",
       "      <td>340.1645</td>\n",
       "      <td>531.3016</td>\n",
       "      <td>NaN</td>\n",
       "      <td>547.6854</td>\n",
       "      <td>NaN</td>\n",
       "      <td>-16.383750</td>\n",
       "    </tr>\n",
       "    <tr>\n",
       "      <td>1</td>\n",
       "      <td>340.5422</td>\n",
       "      <td>531.3016</td>\n",
       "      <td>NaN</td>\n",
       "      <td>547.6854</td>\n",
       "      <td>NaN</td>\n",
       "      <td>-16.383750</td>\n",
       "    </tr>\n",
       "    <tr>\n",
       "      <td>2</td>\n",
       "      <td>340.9199</td>\n",
       "      <td>531.3016</td>\n",
       "      <td>NaN</td>\n",
       "      <td>547.6854</td>\n",
       "      <td>NaN</td>\n",
       "      <td>-16.383750</td>\n",
       "    </tr>\n",
       "    <tr>\n",
       "      <td>3</td>\n",
       "      <td>341.2975</td>\n",
       "      <td>496.1936</td>\n",
       "      <td>NaN</td>\n",
       "      <td>465.7666</td>\n",
       "      <td>NaN</td>\n",
       "      <td>30.426960</td>\n",
       "    </tr>\n",
       "    <tr>\n",
       "      <td>4</td>\n",
       "      <td>341.6751</td>\n",
       "      <td>465.7666</td>\n",
       "      <td>NaN</td>\n",
       "      <td>521.9395</td>\n",
       "      <td>NaN</td>\n",
       "      <td>-56.172860</td>\n",
       "    </tr>\n",
       "    <tr>\n",
       "      <td>...</td>\n",
       "      <td>...</td>\n",
       "      <td>...</td>\n",
       "      <td>...</td>\n",
       "      <td>...</td>\n",
       "      <td>...</td>\n",
       "      <td>...</td>\n",
       "    </tr>\n",
       "    <tr>\n",
       "      <td>2043</td>\n",
       "      <td>1027.1070</td>\n",
       "      <td>1891.1530</td>\n",
       "      <td>NaN</td>\n",
       "      <td>1949.6660</td>\n",
       "      <td>NaN</td>\n",
       "      <td>-58.513390</td>\n",
       "    </tr>\n",
       "    <tr>\n",
       "      <td>2044</td>\n",
       "      <td>1027.3920</td>\n",
       "      <td>2019.8820</td>\n",
       "      <td>NaN</td>\n",
       "      <td>2052.6500</td>\n",
       "      <td>NaN</td>\n",
       "      <td>-32.767500</td>\n",
       "    </tr>\n",
       "    <tr>\n",
       "      <td>2045</td>\n",
       "      <td>1027.6770</td>\n",
       "      <td>2787.5780</td>\n",
       "      <td>NaN</td>\n",
       "      <td>2796.9400</td>\n",
       "      <td>NaN</td>\n",
       "      <td>-9.362143</td>\n",
       "    </tr>\n",
       "    <tr>\n",
       "      <td>2046</td>\n",
       "      <td>1027.9620</td>\n",
       "      <td>3613.7870</td>\n",
       "      <td>NaN</td>\n",
       "      <td>3597.4030</td>\n",
       "      <td>NaN</td>\n",
       "      <td>16.383750</td>\n",
       "    </tr>\n",
       "    <tr>\n",
       "      <td>2047</td>\n",
       "      <td>1028.2470</td>\n",
       "      <td>2637.7840</td>\n",
       "      <td>NaN</td>\n",
       "      <td>2518.4160</td>\n",
       "      <td>NaN</td>\n",
       "      <td>119.367300</td>\n",
       "    </tr>\n",
       "  </tbody>\n",
       "</table>\n",
       "<p>2048 rows × 6 columns</p>\n",
       "</div>"
      ],
      "text/plain": [
       "      Wavelength (nm)  Intensity Light (Counts)  \\\n",
       "0            340.1645                  531.3016   \n",
       "1            340.5422                  531.3016   \n",
       "2            340.9199                  531.3016   \n",
       "3            341.2975                  496.1936   \n",
       "4            341.6751                  465.7666   \n",
       "...               ...                       ...   \n",
       "2043        1027.1070                 1891.1530   \n",
       "2044        1027.3920                 2019.8820   \n",
       "2045        1027.6770                 2787.5780   \n",
       "2046        1027.9620                 3613.7870   \n",
       "2047        1028.2470                 2637.7840   \n",
       "\n",
       "      Intensity Light (Counts) Stdev  Intensity Dark (Counts)  \\\n",
       "0                                NaN                 547.6854   \n",
       "1                                NaN                 547.6854   \n",
       "2                                NaN                 547.6854   \n",
       "3                                NaN                 465.7666   \n",
       "4                                NaN                 521.9395   \n",
       "...                              ...                      ...   \n",
       "2043                             NaN                1949.6660   \n",
       "2044                             NaN                2052.6500   \n",
       "2045                             NaN                2796.9400   \n",
       "2046                             NaN                3597.4030   \n",
       "2047                             NaN                2518.4160   \n",
       "\n",
       "      Intensity Dark (Counts) Stdev  Intensity Corrected (Counts)  \n",
       "0                               NaN                    -16.383750  \n",
       "1                               NaN                    -16.383750  \n",
       "2                               NaN                    -16.383750  \n",
       "3                               NaN                     30.426960  \n",
       "4                               NaN                    -56.172860  \n",
       "...                             ...                           ...  \n",
       "2043                            NaN                    -58.513390  \n",
       "2044                            NaN                    -32.767500  \n",
       "2045                            NaN                     -9.362143  \n",
       "2046                            NaN                     16.383750  \n",
       "2047                            NaN                    119.367300  \n",
       "\n",
       "[2048 rows x 6 columns]"
      ]
     },
     "execution_count": 19,
     "metadata": {},
     "output_type": "execute_result"
    }
   ],
   "source": [
    "SnGe_4500rpm_10s"
   ]
  },
  {
   "cell_type": "code",
   "execution_count": 29,
   "metadata": {},
   "outputs": [
    {
     "data": {
      "text/plain": [
       "Text(0.5, 1.0, 'PL SnGe Nanocrystals')"
      ]
     },
     "execution_count": 29,
     "metadata": {},
     "output_type": "execute_result"
    },
    {
     "data": {
      "image/png": "[encoded data removed]",
      "text/plain": [
       "<Figure size 432x288 with 1 Axes>"
      ]
     },
     "metadata": {
      "needs_background": "light"
     },
     "output_type": "display_data"
    }
   ],
   "source": [
    "plt.plot(SnGe_4500rpm_10s['Wavelength (nm)'].values, SnGe_4500rpm_10s['Intensity Corrected (Counts)'].values, label = 'SnGe NCs 4500rpm 10s integration')\n",
    "plt.plot(SnGe_4500rpm_30s['Wavelength (nm)'].values, SnGe_4500rpm_30s['Intensity Corrected (Counts)'].values, label = 'SnGe NCs 4500rpm 30s integration')\n",
    "plt.plot(SnGe_11000rpm['Wavelength (nm)'].values, SnGe_11000rpm['Intensity Corrected (Counts)'].values, label = 'SnGe NCs 11000rpm')\n",
    "plt.legend(fontsize = 12, loc  = 1)\n",
    "plt.xlim(600, 900)\n",
    "plt.ylim(0, 30000)\n",
    "plt.xlabel('Wavelength(nm)', fontsize= 20)\n",
    "plt.ylabel('Counts', fontsize=20)\n",
    "plt.title('PL SnGe Nanocrystals', fontsize= 22)"
   ]
  },
  {
   "cell_type": "code",
   "execution_count": null,
   "metadata": {},
   "outputs": [],
   "source": []
  }
 ],
 "metadata": {
  "kernelspec": {
   "display_name": "Python 3",
   "language": "python",
   "name": "python3"
  },
  "language_info": {
   "codemirror_mode": {
    "name": "ipython",
    "version": 3
   },
   "file_extension": ".py",
   "mimetype": "text/x-python",
   "name": "python",
   "nbconvert_exporter": "python",
   "pygments_lexer": "ipython3",
   "version": "3.7.4"
  }
 },
 "nbformat": 4,
 "nbformat_minor": 2
}
